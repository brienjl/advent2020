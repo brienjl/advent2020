{
 "cells": [
  {
   "cell_type": "markdown",
   "metadata": {},
   "source": [
    "## Part 1\n",
    "--- Day 1: Report Repair ---\n",
    "After saving Christmas five years in a row, you've decided to take a vacation at a nice resort on a tropical island. Surely, Christmas will go on without you.\n",
    "\n",
    "The tropical island has its own currency and is entirely cash-only. The gold coins used there have a little picture of a starfish; the locals just call them stars. None of the currency exchanges seem to have heard of them, but somehow, you'll need to find fifty of these coins by the time you arrive so you can pay the deposit on your room.\n",
    "\n",
    "To save your vacation, you need to get all fifty stars by December 25th.\n",
    "\n",
    "Collect stars by solving puzzles. Two puzzles will be made available on each day in the Advent calendar; the second puzzle is unlocked when you complete the first. Each puzzle grants one star. Good luck!\n",
    "\n",
    "Before you leave, the Elves in accounting just need you to fix your expense report (your puzzle input); apparently, something isn't quite adding up.\n",
    "\n",
    "Specifically, they need you to find the two entries that sum to 2020 and then multiply those two numbers together.\n",
    "\n",
    "For example, suppose your expense report contained the following:\n",
    "\n",
    "1721\n",
    "979\n",
    "366\n",
    "299\n",
    "675\n",
    "1456\n",
    "\n",
    "In this list, the two entries that sum to 2020 are 1721 and 299. Multiplying them together produces 1721 * 299 = 514579, so the correct answer is 514579.\n",
    "\n",
    "Of course, your expense report is much larger. Find the two entries that sum to 2020; what do you get if you multiply them together?"
   ]
  },
  {
   "cell_type": "code",
   "execution_count": 5,
   "metadata": {},
   "outputs": [
    {
     "name": "stdout",
     "output_type": "stream",
     "text": [
      "1721\n",
      "299\n",
      "514579\n"
     ]
    }
   ],
   "source": [
    "test = (1721, 979, 366, 299, 675, 1456)\n",
    "\n",
    "for i in range(len(test)-1):\n",
    "    for j in range(i+1, len(test)):\n",
    "        num1 = test[i]\n",
    "        num2 = test[j]\n",
    "        \n",
    "        if num1 + num2 == 2020:\n",
    "            product = num1 * num2\n",
    "            \n",
    "            print(num1)\n",
    "            print(num2)\n",
    "            print(product)"
   ]
  },
  {
   "cell_type": "code",
   "execution_count": 60,
   "metadata": {},
   "outputs": [
    {
     "name": "stdout",
     "output_type": "stream",
     "text": [
      "1983\n",
      "37\n",
      "73371\n"
     ]
    }
   ],
   "source": [
    "with open('data/day1-1.txt') as f:\n",
    "    lines = f.readlines()\n",
    "    \n",
    "nums = [ int(line.strip()) for line in lines ]\n",
    "\n",
    "for i in range(len(nums) - 1):\n",
    "    for j in range(i + 1, len(nums)):\n",
    "        num1 = nums[i]\n",
    "        num2 = nums[j]\n",
    "        \n",
    "        if num1 + num2 == 2020:\n",
    "            product = num1 * num2\n",
    "            \n",
    "            print(num1)\n",
    "            print(num2)\n",
    "            print(product)"
   ]
  },
  {
   "cell_type": "markdown",
   "metadata": {},
   "source": [
    "## Part 2\n",
    "\n",
    "--- Part Two ---\n",
    "The Elves in accounting are thankful for your help; one of them even offers you a starfish coin they had left over from a past vacation. They offer you a second one if you can find three numbers in your expense report that meet the same criteria.\n",
    "\n",
    "Using the above example again, the three entries that sum to 2020 are 979, 366, and 675. Multiplying them together produces the answer, 241861950.\n",
    "\n",
    "In your expense report, what is the product of the three entries that sum to 2020?"
   ]
  },
  {
   "cell_type": "code",
   "execution_count": 61,
   "metadata": {},
   "outputs": [
    {
     "name": "stdout",
     "output_type": "stream",
     "text": [
      "401\n",
      "1390\n",
      "229\n",
      "127642310\n"
     ]
    }
   ],
   "source": [
    "with open('data/day1-1.txt') as f:\n",
    "    lines = f.readlines()\n",
    "    \n",
    "nums = [ int(line.strip()) for line in lines ]\n",
    "\n",
    "for i in range(len(nums) - 1):\n",
    "    for j in range(i + 1, len(nums)):\n",
    "        for k in range (j + 1, len(nums)):\n",
    "            \n",
    "            num1 = nums[i]\n",
    "            num2 = nums[j]\n",
    "            num3 = nums[k]\n",
    "        \n",
    "            if num1 + num2 + num3 == 2020:\n",
    "                product = num1 * num2 * num3\n",
    "            \n",
    "                print(num1)\n",
    "                print(num2)\n",
    "                print(num3)\n",
    "                print(product)"
   ]
  },
  {
   "cell_type": "code",
   "execution_count": null,
   "metadata": {},
   "outputs": [],
   "source": []
  }
 ],
 "metadata": {
  "kernelspec": {
   "display_name": "Python 3",
   "language": "python",
   "name": "python3"
  },
  "language_info": {
   "codemirror_mode": {
    "name": "ipython",
    "version": 3
   },
   "file_extension": ".py",
   "mimetype": "text/x-python",
   "name": "python",
   "nbconvert_exporter": "python",
   "pygments_lexer": "ipython3",
   "version": "3.9.0"
  }
 },
 "nbformat": 4,
 "nbformat_minor": 4
}
