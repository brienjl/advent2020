{
 "cells": [
  {
   "cell_type": "markdown",
   "metadata": {},
   "source": [
    "## Part 2\n",
    "\n",
    "--- Day 2: Password Philosophy ---\n",
    "\n",
    "Your flight departs in a few days from the coastal airport; the easiest way down to the coast from here is via toboggan.\n",
    "\n",
    "The shopkeeper at the North Pole Toboggan Rental Shop is having a bad day. \"Something's wrong with our computers; we can't log in!\" You ask if you can take a look.\n",
    "\n",
    "Their password database seems to be a little corrupted: some of the passwords wouldn't have been allowed by the Official Toboggan Corporate Policy that was in effect when they were chosen.\n",
    "\n",
    "To try to debug the problem, they have created a list (your puzzle input) of passwords (according to the corrupted database) and the corporate policy when that password was set.\n",
    "\n",
    "For example, suppose you have the following list:\n",
    "\n",
    "1-3 a: abcde\n",
    "\n",
    "1-3 b: cdefg\n",
    "\n",
    "2-9 c: ccccccccc\n",
    "\n",
    "Each line gives the password policy and then the password. The password policy indicates the lowest and highest number of times a given letter must appear for the password to be valid. For example, 1-3 a means that the password must contain a at least 1 time and at most 3 times.\n",
    "\n",
    "In the above example, 2 passwords are valid. The middle password, cdefg, is not; it contains no instances of b, but needs at least 1. The first and third passwords are valid: they contain one a or nine c, both within the limits of their respective policies.\n",
    "\n",
    "How many passwords are valid according to their policies?"
   ]
  },
  {
   "cell_type": "markdown",
   "metadata": {},
   "source": [
    "Thoughts...\n",
    "\n",
    "Create functions to\n",
    "\n",
    "1. Identify the policy \"def policy\"\n",
    "2. Identfiy if password conforms to policy \"def valid password\" and set to true or false\n",
    "3. Count number of trues"
   ]
  },
  {
   "cell_type": "code",
   "execution_count": 187,
   "metadata": {},
   "outputs": [
    {
     "data": {
      "text/html": [
       "<div>\n",
       "<style scoped>\n",
       "    .dataframe tbody tr th:only-of-type {\n",
       "        vertical-align: middle;\n",
       "    }\n",
       "\n",
       "    .dataframe tbody tr th {\n",
       "        vertical-align: top;\n",
       "    }\n",
       "\n",
       "    .dataframe thead th {\n",
       "        text-align: right;\n",
       "    }\n",
       "</style>\n",
       "<table border=\"1\" class=\"dataframe\">\n",
       "  <thead>\n",
       "    <tr style=\"text-align: right;\">\n",
       "      <th></th>\n",
       "      <th>policy</th>\n",
       "      <th>letter</th>\n",
       "      <th>password</th>\n",
       "    </tr>\n",
       "  </thead>\n",
       "  <tbody>\n",
       "    <tr>\n",
       "      <th>0</th>\n",
       "      <td>9-11</td>\n",
       "      <td>p:</td>\n",
       "      <td>pppppppppxblp</td>\n",
       "    </tr>\n",
       "    <tr>\n",
       "      <th>1</th>\n",
       "      <td>2-4</td>\n",
       "      <td>b:</td>\n",
       "      <td>bbxbb</td>\n",
       "    </tr>\n",
       "    <tr>\n",
       "      <th>2</th>\n",
       "      <td>3-5</td>\n",
       "      <td>q:</td>\n",
       "      <td>dqfqb</td>\n",
       "    </tr>\n",
       "    <tr>\n",
       "      <th>3</th>\n",
       "      <td>5-8</td>\n",
       "      <td>g:</td>\n",
       "      <td>ggcgggglg</td>\n",
       "    </tr>\n",
       "    <tr>\n",
       "      <th>4</th>\n",
       "      <td>10-18</td>\n",
       "      <td>l:</td>\n",
       "      <td>gllpmlgtrmnllhllrlll</td>\n",
       "    </tr>\n",
       "    <tr>\n",
       "      <th>...</th>\n",
       "      <td>...</td>\n",
       "      <td>...</td>\n",
       "      <td>...</td>\n",
       "    </tr>\n",
       "    <tr>\n",
       "      <th>995</th>\n",
       "      <td>10-12</td>\n",
       "      <td>t:</td>\n",
       "      <td>hnjdfgrhtgkl</td>\n",
       "    </tr>\n",
       "    <tr>\n",
       "      <th>996</th>\n",
       "      <td>2-4</td>\n",
       "      <td>d:</td>\n",
       "      <td>dbddddc</td>\n",
       "    </tr>\n",
       "    <tr>\n",
       "      <th>997</th>\n",
       "      <td>13-14</td>\n",
       "      <td>g:</td>\n",
       "      <td>gggggggbgggmgmgm</td>\n",
       "    </tr>\n",
       "    <tr>\n",
       "      <th>998</th>\n",
       "      <td>4-12</td>\n",
       "      <td>r:</td>\n",
       "      <td>rrrzrgkrrrrkr</td>\n",
       "    </tr>\n",
       "    <tr>\n",
       "      <th>999</th>\n",
       "      <td>14-17</td>\n",
       "      <td>n:</td>\n",
       "      <td>nnhnnnnnnnnnnnnnhnn</td>\n",
       "    </tr>\n",
       "  </tbody>\n",
       "</table>\n",
       "<p>1000 rows × 3 columns</p>\n",
       "</div>"
      ],
      "text/plain": [
       "    policy letter              password\n",
       "0     9-11     p:         pppppppppxblp\n",
       "1      2-4     b:                 bbxbb\n",
       "2      3-5     q:                 dqfqb\n",
       "3      5-8     g:             ggcgggglg\n",
       "4    10-18     l:  gllpmlgtrmnllhllrlll\n",
       "..     ...    ...                   ...\n",
       "995  10-12     t:          hnjdfgrhtgkl\n",
       "996    2-4     d:               dbddddc\n",
       "997  13-14     g:      gggggggbgggmgmgm\n",
       "998   4-12     r:         rrrzrgkrrrrkr\n",
       "999  14-17     n:   nnhnnnnnnnnnnnnnhnn\n",
       "\n",
       "[1000 rows x 3 columns]"
      ]
     },
     "execution_count": 187,
     "metadata": {},
     "output_type": "execute_result"
    }
   ],
   "source": [
    "import pandas as pd\n",
    "colnames=['policy', 'letter', 'password']\n",
    "df = pd.read_csv(\"data/day2-1.txt\", names = colnames, sep = \" \", header = None)\n",
    "df"
   ]
  },
  {
   "cell_type": "markdown",
   "metadata": {},
   "source": [
    "Let's create some functions and test against our test data.... eventually we'll iterate through the entire dataset and just call the function(s) and count the number of true or false"
   ]
  },
  {
   "cell_type": "code",
   "execution_count": 188,
   "metadata": {},
   "outputs": [
    {
     "data": {
      "text/plain": [
       "628"
      ]
     },
     "execution_count": 188,
     "metadata": {},
     "output_type": "execute_result"
    }
   ],
   "source": [
    "def letter(data): #get the letter to check against and ignore that \":\"\n",
    "    for row in data:\n",
    "        letter = row[0]\n",
    "        return(letter)\n",
    "\n",
    "totalValidPasswords = 0\n",
    "\n",
    "for i, row in df.iterrows(): #set the min, max, and check character\n",
    "    quota = row[policy]\n",
    "    foo = quota.index('-')\n",
    "    min = int(quota[:foo])\n",
    "    max = int(quota[foo+1:])\n",
    "    \n",
    "    char = letter(df.letter[i])\n",
    "    count = df.password[i].count(char) #counts the number of occurances of the desired letter\n",
    "    \n",
    "    if count > max:\n",
    "        totalValidPasswords += 0\n",
    "    elif count < min: \n",
    "        totalValidPasswords += 0\n",
    "    else:\n",
    "        totalValidPasswords += 1\n",
    "        \n",
    "totalValidPasswords"
   ]
  },
  {
   "cell_type": "markdown",
   "metadata": {},
   "source": [
    "## part 2\n",
    "\n",
    "--- Part Two ---\n",
    "\n",
    "While it appears you validated the passwords correctly, they don't seem to be what the Official Toboggan Corporate Authentication System is expecting.\n",
    "\n",
    "The shopkeeper suddenly realizes that he just accidentally explained the password policy rules from his old job at the sled rental place down the street! The Official Toboggan Corporate Policy actually works a little differently.\n",
    "\n",
    "Each policy actually describes two positions in the password, where 1 means the first character, 2 means the second character, and so on. (Be careful; Toboggan Corporate Policies have no concept of \"index zero\"!) Exactly one of these positions must contain the given letter. Other occurrences of the letter are irrelevant for the purposes of policy enforcement.\n",
    "\n",
    "Given the same example list from above:\n",
    "\n",
    "1-3 a: abcde is valid: position 1 contains a and position 3 does not.\n",
    "1-3 b: cdefg is invalid: neither position 1 nor position 3 contains b.\n",
    "2-9 c: ccccccccc is invalid: both position 2 and position 9 contain c.\n",
    "How many passwords are valid according to the new interpretation of the policies?"
   ]
  },
  {
   "cell_type": "markdown",
   "metadata": {},
   "source": [
    "thoughts....\n",
    "\n",
    "Accoridng to the rules: \n",
    "* the letter can only be present once in one of the desired positions.\n",
    "* the letter can not exist in both positions"
   ]
  },
  {
   "cell_type": "code",
   "execution_count": 189,
   "metadata": {},
   "outputs": [
    {
     "data": {
      "text/plain": [
       "705"
      ]
     },
     "execution_count": 189,
     "metadata": {},
     "output_type": "execute_result"
    }
   ],
   "source": [
    "totalValidNewPasswords = 0\n",
    "\n",
    "for i, row in df.iterrows(): #set the min, max, and check character\n",
    "    quota = row[policy]\n",
    "    foo = quota.index('-')\n",
    "    min = int(quota[:foo])\n",
    "    max = int(quota[foo+1:])\n",
    "    \n",
    "    char = letter(df.letter[i])\n",
    "    \n",
    "    first = df.password[i][min-1] == char\n",
    "    second = df.password[i][max-1] == char\n",
    "    \n",
    "    if (first and not second or second and not first):\n",
    "        totalValidNewPasswords +=1\n",
    "        \n",
    "totalValidNewPasswords"
   ]
  },
  {
   "cell_type": "code",
   "execution_count": null,
   "metadata": {},
   "outputs": [],
   "source": []
  },
  {
   "cell_type": "code",
   "execution_count": null,
   "metadata": {},
   "outputs": [],
   "source": []
  }
 ],
 "metadata": {
  "kernelspec": {
   "display_name": "Python 3",
   "language": "python",
   "name": "python3"
  },
  "language_info": {
   "codemirror_mode": {
    "name": "ipython",
    "version": 3
   },
   "file_extension": ".py",
   "mimetype": "text/x-python",
   "name": "python",
   "nbconvert_exporter": "python",
   "pygments_lexer": "ipython3",
   "version": "3.9.0"
  }
 },
 "nbformat": 4,
 "nbformat_minor": 4
}
